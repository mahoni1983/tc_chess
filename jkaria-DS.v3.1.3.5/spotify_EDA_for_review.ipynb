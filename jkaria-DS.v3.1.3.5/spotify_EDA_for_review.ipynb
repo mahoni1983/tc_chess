{
 "cells": [
  {
   "cell_type": "markdown",
   "id": "a52a6d31-60c3-4651-958e-824bd0f2681b",
   "metadata": {},
   "source": [
    "# Data Processing with NumPy and Pandas\n",
    "# Top 50 Spotify Tracks- 2020"
   ]
  },
  {
   "cell_type": "markdown",
   "id": "fd74a0e8-6d7a-41cb-8504-abad3e75e9f1",
   "metadata": {},
   "source": [
    "https://intra.turingcollege.com/hardskills/data-processing-with-numpy-and-pandas-v3\n",
    "https://www.kaggle.com/datasets/atillacolak/top-50-spotify-tracks-2020"
   ]
  },
  {
   "cell_type": "markdown",
   "id": "e3537d4d-9203-42ec-a182-534743928666",
   "metadata": {},
   "source": [
    "Learning project for Data Processing with NumPy and Pandas."
   ]
  },
  {
   "cell_type": "markdown",
   "id": "57cf5e9b-3f26-46a9-954a-353d46fc1314",
   "metadata": {},
   "source": [
    "### Requirements and tasks\n",
    "Download the data from Spotify Top 50 Tracks of 2020 dataset.\n",
    "- Load the data using Pandas.\n",
    "- Perform data cleaning by:\n",
    "- Handling missing values.\n",
    "- Removing duplicate samples and features.\n",
    "- Treating the outliers.\n",
    "- Perform exploratory data analysis. Your analysis should provide answers to these questions:\n",
    "- How many observations are there in this dataset?\n",
    "- How many features this dataset has?\n",
    "- Which of the features are categorical?\n",
    "Which of the features are numeric?\n",
    "Are there any artists that have more than 1 popular track? If yes, which and how many?\n",
    "Who was the most popular artist?\n",
    "How many artists in total have their songs in the top 50?\n",
    "Are there any albums that have more than 1 popular track? If yes, which and how many?\n",
    "How many albums in total have their songs in the top 50?\n",
    "Which tracks have a danceability score above 0.7?\n",
    "Which tracks have a danceability score below 0.4?\n",
    "Which tracks have their loudness above -5?\n",
    "Which tracks have their loudness below -8?\n",
    "Which track is the longest?\n",
    "Which track is the shortest?\n",
    "Which genre is the most popular?\n",
    "Which genres have just one song on the top 50?\n",
    "How many genres in total are represented in the top 50?\n",
    "Which features are strongly positively correlated?\n",
    "Which features are strongly negatively correlated?\n",
    "Which features are not correlated?\n",
    "How does the danceability score compare between Pop, Hip-Hop/Rap, Dance/Electronic, and Alternative/Indie genres?\n",
    "How does the loudness score compare between Pop, Hip-Hop/Rap, Dance/Electronic, and Alternative/Indie genres?\n",
    "How does the acousticness score compare between Pop, Hip-Hop/Rap, Dance/Electronic, and Alternative/Indie genres?\n",
    "Provide clear explanations in your notebook. Your explanations should inform the reader what you are trying to achieve, the results you got, and what these results mean.\n",
    "Provide suggestions for how your analysis could be improved."
   ]
  },
  {
   "cell_type": "markdown",
   "id": "1b5e69ad-1d02-401c-b928-093f6f4e1c9c",
   "metadata": {},
   "source": [
    "### Load the data using Pandas"
   ]
  },
  {
   "cell_type": "code",
   "execution_count": 1,
   "id": "c54fe050-3ac0-4a35-bd18-f33fce21f594",
   "metadata": {},
   "outputs": [],
   "source": [
    "import pandas as pd"
   ]
  },
  {
   "cell_type": "code",
   "execution_count": 2,
   "id": "fd417b62-5832-4a41-8edd-80e3758ec2b1",
   "metadata": {},
   "outputs": [],
   "source": [
    "df = pd.read_csv('spotifytoptracks.csv', index_col=0)"
   ]
  },
  {
   "cell_type": "code",
   "execution_count": 3,
   "id": "d296993f-710d-4a46-bdd7-c92f1bfab80f",
   "metadata": {},
   "outputs": [
    {
     "name": "stdout",
     "output_type": "stream",
     "text": [
      "<class 'pandas.core.frame.DataFrame'>\n",
      "Index: 50 entries, 0 to 49\n",
      "Data columns (total 16 columns):\n",
      " #   Column            Non-Null Count  Dtype  \n",
      "---  ------            --------------  -----  \n",
      " 0   artist            50 non-null     object \n",
      " 1   album             50 non-null     object \n",
      " 2   track_name        50 non-null     object \n",
      " 3   track_id          50 non-null     object \n",
      " 4   energy            50 non-null     float64\n",
      " 5   danceability      50 non-null     float64\n",
      " 6   key               50 non-null     int64  \n",
      " 7   loudness          50 non-null     float64\n",
      " 8   acousticness      50 non-null     float64\n",
      " 9   speechiness       50 non-null     float64\n",
      " 10  instrumentalness  50 non-null     float64\n",
      " 11  liveness          50 non-null     float64\n",
      " 12  valence           50 non-null     float64\n",
      " 13  tempo             50 non-null     float64\n",
      " 14  duration_ms       50 non-null     int64  \n",
      " 15  genre             50 non-null     object \n",
      "dtypes: float64(9), int64(2), object(5)\n",
      "memory usage: 6.6+ KB\n"
     ]
    }
   ],
   "source": [
    "df.info()"
   ]
  },
  {
   "cell_type": "code",
   "execution_count": 4,
   "id": "d5e285d7-0062-497b-9d22-3ab443bfd922",
   "metadata": {},
   "outputs": [
    {
     "data": {
      "text/html": [
       "<div>\n",
       "<style scoped>\n",
       "    .dataframe tbody tr th:only-of-type {\n",
       "        vertical-align: middle;\n",
       "    }\n",
       "\n",
       "    .dataframe tbody tr th {\n",
       "        vertical-align: top;\n",
       "    }\n",
       "\n",
       "    .dataframe thead th {\n",
       "        text-align: right;\n",
       "    }\n",
       "</style>\n",
       "<table border=\"1\" class=\"dataframe\">\n",
       "  <thead>\n",
       "    <tr style=\"text-align: right;\">\n",
       "      <th></th>\n",
       "      <th>artist</th>\n",
       "      <th>album</th>\n",
       "      <th>track_name</th>\n",
       "      <th>track_id</th>\n",
       "      <th>energy</th>\n",
       "      <th>danceability</th>\n",
       "      <th>key</th>\n",
       "      <th>loudness</th>\n",
       "      <th>acousticness</th>\n",
       "      <th>speechiness</th>\n",
       "      <th>instrumentalness</th>\n",
       "      <th>liveness</th>\n",
       "      <th>valence</th>\n",
       "      <th>tempo</th>\n",
       "      <th>duration_ms</th>\n",
       "      <th>genre</th>\n",
       "    </tr>\n",
       "  </thead>\n",
       "  <tbody>\n",
       "    <tr>\n",
       "      <th>0</th>\n",
       "      <td>The Weeknd</td>\n",
       "      <td>After Hours</td>\n",
       "      <td>Blinding Lights</td>\n",
       "      <td>0VjIjW4GlUZAMYd2vXMi3b</td>\n",
       "      <td>0.730</td>\n",
       "      <td>0.514</td>\n",
       "      <td>1</td>\n",
       "      <td>-5.934</td>\n",
       "      <td>0.00146</td>\n",
       "      <td>0.0598</td>\n",
       "      <td>0.000095</td>\n",
       "      <td>0.0897</td>\n",
       "      <td>0.334</td>\n",
       "      <td>171.005</td>\n",
       "      <td>200040</td>\n",
       "      <td>R&amp;B/Soul</td>\n",
       "    </tr>\n",
       "    <tr>\n",
       "      <th>1</th>\n",
       "      <td>Tones And I</td>\n",
       "      <td>Dance Monkey</td>\n",
       "      <td>Dance Monkey</td>\n",
       "      <td>1rgnBhdG2JDFTbYkYRZAku</td>\n",
       "      <td>0.593</td>\n",
       "      <td>0.825</td>\n",
       "      <td>6</td>\n",
       "      <td>-6.401</td>\n",
       "      <td>0.68800</td>\n",
       "      <td>0.0988</td>\n",
       "      <td>0.000161</td>\n",
       "      <td>0.1700</td>\n",
       "      <td>0.540</td>\n",
       "      <td>98.078</td>\n",
       "      <td>209755</td>\n",
       "      <td>Alternative/Indie</td>\n",
       "    </tr>\n",
       "    <tr>\n",
       "      <th>2</th>\n",
       "      <td>Roddy Ricch</td>\n",
       "      <td>Please Excuse Me For Being Antisocial</td>\n",
       "      <td>The Box</td>\n",
       "      <td>0nbXyq5TXYPCO7pr3N8S4I</td>\n",
       "      <td>0.586</td>\n",
       "      <td>0.896</td>\n",
       "      <td>10</td>\n",
       "      <td>-6.687</td>\n",
       "      <td>0.10400</td>\n",
       "      <td>0.0559</td>\n",
       "      <td>0.000000</td>\n",
       "      <td>0.7900</td>\n",
       "      <td>0.642</td>\n",
       "      <td>116.971</td>\n",
       "      <td>196653</td>\n",
       "      <td>Hip-Hop/Rap</td>\n",
       "    </tr>\n",
       "    <tr>\n",
       "      <th>3</th>\n",
       "      <td>SAINt JHN</td>\n",
       "      <td>Roses (Imanbek Remix)</td>\n",
       "      <td>Roses - Imanbek Remix</td>\n",
       "      <td>2Wo6QQD1KMDWeFkkjLqwx5</td>\n",
       "      <td>0.721</td>\n",
       "      <td>0.785</td>\n",
       "      <td>8</td>\n",
       "      <td>-5.457</td>\n",
       "      <td>0.01490</td>\n",
       "      <td>0.0506</td>\n",
       "      <td>0.004320</td>\n",
       "      <td>0.2850</td>\n",
       "      <td>0.894</td>\n",
       "      <td>121.962</td>\n",
       "      <td>176219</td>\n",
       "      <td>Dance/Electronic</td>\n",
       "    </tr>\n",
       "    <tr>\n",
       "      <th>4</th>\n",
       "      <td>Dua Lipa</td>\n",
       "      <td>Future Nostalgia</td>\n",
       "      <td>Don't Start Now</td>\n",
       "      <td>3PfIrDoz19wz7qK7tYeu62</td>\n",
       "      <td>0.793</td>\n",
       "      <td>0.793</td>\n",
       "      <td>11</td>\n",
       "      <td>-4.521</td>\n",
       "      <td>0.01230</td>\n",
       "      <td>0.0830</td>\n",
       "      <td>0.000000</td>\n",
       "      <td>0.0951</td>\n",
       "      <td>0.679</td>\n",
       "      <td>123.950</td>\n",
       "      <td>183290</td>\n",
       "      <td>Nu-disco</td>\n",
       "    </tr>\n",
       "  </tbody>\n",
       "</table>\n",
       "</div>"
      ],
      "text/plain": [
       "        artist                                  album             track_name  \\\n",
       "0   The Weeknd                            After Hours        Blinding Lights   \n",
       "1  Tones And I                           Dance Monkey           Dance Monkey   \n",
       "2  Roddy Ricch  Please Excuse Me For Being Antisocial                The Box   \n",
       "3    SAINt JHN                  Roses (Imanbek Remix)  Roses - Imanbek Remix   \n",
       "4     Dua Lipa                       Future Nostalgia        Don't Start Now   \n",
       "\n",
       "                 track_id  energy  danceability  key  loudness  acousticness  \\\n",
       "0  0VjIjW4GlUZAMYd2vXMi3b   0.730         0.514    1    -5.934       0.00146   \n",
       "1  1rgnBhdG2JDFTbYkYRZAku   0.593         0.825    6    -6.401       0.68800   \n",
       "2  0nbXyq5TXYPCO7pr3N8S4I   0.586         0.896   10    -6.687       0.10400   \n",
       "3  2Wo6QQD1KMDWeFkkjLqwx5   0.721         0.785    8    -5.457       0.01490   \n",
       "4  3PfIrDoz19wz7qK7tYeu62   0.793         0.793   11    -4.521       0.01230   \n",
       "\n",
       "   speechiness  instrumentalness  liveness  valence    tempo  duration_ms  \\\n",
       "0       0.0598          0.000095    0.0897    0.334  171.005       200040   \n",
       "1       0.0988          0.000161    0.1700    0.540   98.078       209755   \n",
       "2       0.0559          0.000000    0.7900    0.642  116.971       196653   \n",
       "3       0.0506          0.004320    0.2850    0.894  121.962       176219   \n",
       "4       0.0830          0.000000    0.0951    0.679  123.950       183290   \n",
       "\n",
       "               genre  \n",
       "0           R&B/Soul  \n",
       "1  Alternative/Indie  \n",
       "2        Hip-Hop/Rap  \n",
       "3   Dance/Electronic  \n",
       "4           Nu-disco  "
      ]
     },
     "execution_count": 4,
     "metadata": {},
     "output_type": "execute_result"
    }
   ],
   "source": [
    "df.head()"
   ]
  },
  {
   "cell_type": "markdown",
   "id": "a1ce4519-8f3e-4a25-81b7-fcdb0dd3ecb2",
   "metadata": {},
   "source": [
    "50 rows and columns of types: float64(9), int64(2), object(5)"
   ]
  },
  {
   "cell_type": "markdown",
   "id": "878385fa-15a9-46e3-8c48-2451c111c531",
   "metadata": {},
   "source": [
    "### Handling missing values."
   ]
  },
  {
   "cell_type": "code",
   "execution_count": 5,
   "id": "0a4fb969-741e-42bf-b15b-792b4d88e883",
   "metadata": {},
   "outputs": [
    {
     "data": {
      "text/html": [
       "<div>\n",
       "<style scoped>\n",
       "    .dataframe tbody tr th:only-of-type {\n",
       "        vertical-align: middle;\n",
       "    }\n",
       "\n",
       "    .dataframe tbody tr th {\n",
       "        vertical-align: top;\n",
       "    }\n",
       "\n",
       "    .dataframe thead th {\n",
       "        text-align: right;\n",
       "    }\n",
       "</style>\n",
       "<table border=\"1\" class=\"dataframe\">\n",
       "  <thead>\n",
       "    <tr style=\"text-align: right;\">\n",
       "      <th></th>\n",
       "      <th>artist</th>\n",
       "      <th>album</th>\n",
       "      <th>track_name</th>\n",
       "      <th>track_id</th>\n",
       "      <th>energy</th>\n",
       "      <th>danceability</th>\n",
       "      <th>key</th>\n",
       "      <th>loudness</th>\n",
       "      <th>acousticness</th>\n",
       "      <th>speechiness</th>\n",
       "      <th>instrumentalness</th>\n",
       "      <th>liveness</th>\n",
       "      <th>valence</th>\n",
       "      <th>tempo</th>\n",
       "      <th>duration_ms</th>\n",
       "      <th>genre</th>\n",
       "    </tr>\n",
       "  </thead>\n",
       "  <tbody>\n",
       "  </tbody>\n",
       "</table>\n",
       "</div>"
      ],
      "text/plain": [
       "Empty DataFrame\n",
       "Columns: [artist, album, track_name, track_id, energy, danceability, key, loudness, acousticness, speechiness, instrumentalness, liveness, valence, tempo, duration_ms, genre]\n",
       "Index: []"
      ]
     },
     "execution_count": 5,
     "metadata": {},
     "output_type": "execute_result"
    }
   ],
   "source": [
    "df[df.isna().any(axis=1)]"
   ]
  },
  {
   "cell_type": "markdown",
   "id": "2ef1e6ab-a122-4a37-bba3-ee023e2735dd",
   "metadata": {},
   "source": [
    "No missing data"
   ]
  },
  {
   "cell_type": "markdown",
   "id": "0abbd88a-f658-47ee-b1ed-1e380853b268",
   "metadata": {},
   "source": [
    "### Removing duplicate samples and features."
   ]
  },
  {
   "cell_type": "code",
   "execution_count": 6,
   "id": "94fc5a1f-113a-470d-8ed8-3ab47d947f65",
   "metadata": {
    "jupyter": {
     "source_hidden": true
    }
   },
   "outputs": [
    {
     "data": {
      "text/html": [
       "<div>\n",
       "<style scoped>\n",
       "    .dataframe tbody tr th:only-of-type {\n",
       "        vertical-align: middle;\n",
       "    }\n",
       "\n",
       "    .dataframe tbody tr th {\n",
       "        vertical-align: top;\n",
       "    }\n",
       "\n",
       "    .dataframe thead th {\n",
       "        text-align: right;\n",
       "    }\n",
       "</style>\n",
       "<table border=\"1\" class=\"dataframe\">\n",
       "  <thead>\n",
       "    <tr style=\"text-align: right;\">\n",
       "      <th></th>\n",
       "      <th>artist</th>\n",
       "      <th>album</th>\n",
       "      <th>track_name</th>\n",
       "      <th>track_id</th>\n",
       "      <th>energy</th>\n",
       "      <th>danceability</th>\n",
       "      <th>key</th>\n",
       "      <th>loudness</th>\n",
       "      <th>acousticness</th>\n",
       "      <th>speechiness</th>\n",
       "      <th>instrumentalness</th>\n",
       "      <th>liveness</th>\n",
       "      <th>valence</th>\n",
       "      <th>tempo</th>\n",
       "      <th>duration_ms</th>\n",
       "      <th>genre</th>\n",
       "    </tr>\n",
       "  </thead>\n",
       "  <tbody>\n",
       "  </tbody>\n",
       "</table>\n",
       "</div>"
      ],
      "text/plain": [
       "Empty DataFrame\n",
       "Columns: [artist, album, track_name, track_id, energy, danceability, key, loudness, acousticness, speechiness, instrumentalness, liveness, valence, tempo, duration_ms, genre]\n",
       "Index: []"
      ]
     },
     "execution_count": 6,
     "metadata": {},
     "output_type": "execute_result"
    }
   ],
   "source": [
    "df[df.duplicated()]"
   ]
  },
  {
   "cell_type": "markdown",
   "id": "7fa39be8-6916-4e12-88eb-15ff43253c47",
   "metadata": {},
   "source": [
    "No duplicates"
   ]
  },
  {
   "cell_type": "markdown",
   "id": "f029bd5f-e983-41d2-9355-e5c78d057b4b",
   "metadata": {},
   "source": [
    "### Treating the outliers."
   ]
  },
  {
   "cell_type": "code",
   "execution_count": 7,
   "id": "30792952-1a33-4665-abcc-cc6957addb08",
   "metadata": {},
   "outputs": [
    {
     "data": {
      "text/html": [
       "<div>\n",
       "<style scoped>\n",
       "    .dataframe tbody tr th:only-of-type {\n",
       "        vertical-align: middle;\n",
       "    }\n",
       "\n",
       "    .dataframe tbody tr th {\n",
       "        vertical-align: top;\n",
       "    }\n",
       "\n",
       "    .dataframe thead th {\n",
       "        text-align: right;\n",
       "    }\n",
       "</style>\n",
       "<table border=\"1\" class=\"dataframe\">\n",
       "  <thead>\n",
       "    <tr style=\"text-align: right;\">\n",
       "      <th></th>\n",
       "      <th>energy</th>\n",
       "      <th>danceability</th>\n",
       "      <th>key</th>\n",
       "      <th>loudness</th>\n",
       "      <th>acousticness</th>\n",
       "      <th>speechiness</th>\n",
       "      <th>instrumentalness</th>\n",
       "      <th>liveness</th>\n",
       "      <th>valence</th>\n",
       "      <th>tempo</th>\n",
       "      <th>duration_ms</th>\n",
       "    </tr>\n",
       "  </thead>\n",
       "  <tbody>\n",
       "    <tr>\n",
       "      <th>count</th>\n",
       "      <td>50.000000</td>\n",
       "      <td>50.000000</td>\n",
       "      <td>50.000000</td>\n",
       "      <td>50.000000</td>\n",
       "      <td>50.000000</td>\n",
       "      <td>50.000000</td>\n",
       "      <td>50.000000</td>\n",
       "      <td>50.000000</td>\n",
       "      <td>50.000000</td>\n",
       "      <td>50.000000</td>\n",
       "      <td>50.000000</td>\n",
       "    </tr>\n",
       "    <tr>\n",
       "      <th>mean</th>\n",
       "      <td>0.609300</td>\n",
       "      <td>0.716720</td>\n",
       "      <td>5.720000</td>\n",
       "      <td>-6.225900</td>\n",
       "      <td>0.256206</td>\n",
       "      <td>0.124158</td>\n",
       "      <td>0.015962</td>\n",
       "      <td>0.196552</td>\n",
       "      <td>0.555710</td>\n",
       "      <td>119.690460</td>\n",
       "      <td>199955.360000</td>\n",
       "    </tr>\n",
       "    <tr>\n",
       "      <th>std</th>\n",
       "      <td>0.154348</td>\n",
       "      <td>0.124975</td>\n",
       "      <td>3.709007</td>\n",
       "      <td>2.349744</td>\n",
       "      <td>0.265250</td>\n",
       "      <td>0.116836</td>\n",
       "      <td>0.094312</td>\n",
       "      <td>0.176610</td>\n",
       "      <td>0.216386</td>\n",
       "      <td>25.414778</td>\n",
       "      <td>33996.122488</td>\n",
       "    </tr>\n",
       "    <tr>\n",
       "      <th>min</th>\n",
       "      <td>0.225000</td>\n",
       "      <td>0.351000</td>\n",
       "      <td>0.000000</td>\n",
       "      <td>-14.454000</td>\n",
       "      <td>0.001460</td>\n",
       "      <td>0.029000</td>\n",
       "      <td>0.000000</td>\n",
       "      <td>0.057400</td>\n",
       "      <td>0.060500</td>\n",
       "      <td>75.801000</td>\n",
       "      <td>140526.000000</td>\n",
       "    </tr>\n",
       "    <tr>\n",
       "      <th>25%</th>\n",
       "      <td>0.494000</td>\n",
       "      <td>0.672500</td>\n",
       "      <td>2.000000</td>\n",
       "      <td>-7.552500</td>\n",
       "      <td>0.052800</td>\n",
       "      <td>0.048325</td>\n",
       "      <td>0.000000</td>\n",
       "      <td>0.093950</td>\n",
       "      <td>0.434000</td>\n",
       "      <td>99.557250</td>\n",
       "      <td>175845.500000</td>\n",
       "    </tr>\n",
       "    <tr>\n",
       "      <th>50%</th>\n",
       "      <td>0.597000</td>\n",
       "      <td>0.746000</td>\n",
       "      <td>6.500000</td>\n",
       "      <td>-5.991500</td>\n",
       "      <td>0.188500</td>\n",
       "      <td>0.070050</td>\n",
       "      <td>0.000000</td>\n",
       "      <td>0.111000</td>\n",
       "      <td>0.560000</td>\n",
       "      <td>116.969000</td>\n",
       "      <td>197853.500000</td>\n",
       "    </tr>\n",
       "    <tr>\n",
       "      <th>75%</th>\n",
       "      <td>0.729750</td>\n",
       "      <td>0.794500</td>\n",
       "      <td>8.750000</td>\n",
       "      <td>-4.285500</td>\n",
       "      <td>0.298750</td>\n",
       "      <td>0.155500</td>\n",
       "      <td>0.000020</td>\n",
       "      <td>0.271250</td>\n",
       "      <td>0.726250</td>\n",
       "      <td>132.317000</td>\n",
       "      <td>215064.000000</td>\n",
       "    </tr>\n",
       "    <tr>\n",
       "      <th>max</th>\n",
       "      <td>0.855000</td>\n",
       "      <td>0.935000</td>\n",
       "      <td>11.000000</td>\n",
       "      <td>-3.280000</td>\n",
       "      <td>0.934000</td>\n",
       "      <td>0.487000</td>\n",
       "      <td>0.657000</td>\n",
       "      <td>0.792000</td>\n",
       "      <td>0.925000</td>\n",
       "      <td>180.067000</td>\n",
       "      <td>312820.000000</td>\n",
       "    </tr>\n",
       "  </tbody>\n",
       "</table>\n",
       "</div>"
      ],
      "text/plain": [
       "          energy  danceability        key   loudness  acousticness  \\\n",
       "count  50.000000     50.000000  50.000000  50.000000     50.000000   \n",
       "mean    0.609300      0.716720   5.720000  -6.225900      0.256206   \n",
       "std     0.154348      0.124975   3.709007   2.349744      0.265250   \n",
       "min     0.225000      0.351000   0.000000 -14.454000      0.001460   \n",
       "25%     0.494000      0.672500   2.000000  -7.552500      0.052800   \n",
       "50%     0.597000      0.746000   6.500000  -5.991500      0.188500   \n",
       "75%     0.729750      0.794500   8.750000  -4.285500      0.298750   \n",
       "max     0.855000      0.935000  11.000000  -3.280000      0.934000   \n",
       "\n",
       "       speechiness  instrumentalness   liveness    valence       tempo  \\\n",
       "count    50.000000         50.000000  50.000000  50.000000   50.000000   \n",
       "mean      0.124158          0.015962   0.196552   0.555710  119.690460   \n",
       "std       0.116836          0.094312   0.176610   0.216386   25.414778   \n",
       "min       0.029000          0.000000   0.057400   0.060500   75.801000   \n",
       "25%       0.048325          0.000000   0.093950   0.434000   99.557250   \n",
       "50%       0.070050          0.000000   0.111000   0.560000  116.969000   \n",
       "75%       0.155500          0.000020   0.271250   0.726250  132.317000   \n",
       "max       0.487000          0.657000   0.792000   0.925000  180.067000   \n",
       "\n",
       "         duration_ms  \n",
       "count      50.000000  \n",
       "mean   199955.360000  \n",
       "std     33996.122488  \n",
       "min    140526.000000  \n",
       "25%    175845.500000  \n",
       "50%    197853.500000  \n",
       "75%    215064.000000  \n",
       "max    312820.000000  "
      ]
     },
     "execution_count": 7,
     "metadata": {},
     "output_type": "execute_result"
    }
   ],
   "source": [
    "df.describe()"
   ]
  },
  {
   "cell_type": "code",
   "execution_count": 8,
   "id": "5b232eef-22bd-4a92-87a0-0fbdfdb005bb",
   "metadata": {},
   "outputs": [],
   "source": [
    "num_cols = df.describe().columns"
   ]
  },
  {
   "cell_type": "code",
   "execution_count": 9,
   "id": "8e49141e-18b7-4daf-8852-5c2892e189e1",
   "metadata": {},
   "outputs": [],
   "source": [
    "outliers_mask = abs(df[num_cols] - df[num_cols].mean()) > (3 * df[num_cols].std())"
   ]
  },
  {
   "cell_type": "code",
   "execution_count": 10,
   "id": "011644c6-b659-47f4-b70d-595f7391bf8c",
   "metadata": {},
   "outputs": [
    {
     "data": {
      "text/html": [
       "<div>\n",
       "<style scoped>\n",
       "    .dataframe tbody tr th:only-of-type {\n",
       "        vertical-align: middle;\n",
       "    }\n",
       "\n",
       "    .dataframe tbody tr th {\n",
       "        vertical-align: top;\n",
       "    }\n",
       "\n",
       "    .dataframe thead th {\n",
       "        text-align: right;\n",
       "    }\n",
       "</style>\n",
       "<table border=\"1\" class=\"dataframe\">\n",
       "  <thead>\n",
       "    <tr style=\"text-align: right;\">\n",
       "      <th></th>\n",
       "      <th>artist</th>\n",
       "      <th>album</th>\n",
       "      <th>track_name</th>\n",
       "      <th>track_id</th>\n",
       "      <th>energy</th>\n",
       "      <th>danceability</th>\n",
       "      <th>key</th>\n",
       "      <th>loudness</th>\n",
       "      <th>acousticness</th>\n",
       "      <th>speechiness</th>\n",
       "      <th>instrumentalness</th>\n",
       "      <th>liveness</th>\n",
       "      <th>valence</th>\n",
       "      <th>tempo</th>\n",
       "      <th>duration_ms</th>\n",
       "      <th>genre</th>\n",
       "    </tr>\n",
       "  </thead>\n",
       "  <tbody>\n",
       "    <tr>\n",
       "      <th>2</th>\n",
       "      <td>Roddy Ricch</td>\n",
       "      <td>Please Excuse Me For Being Antisocial</td>\n",
       "      <td>The Box</td>\n",
       "      <td>0nbXyq5TXYPCO7pr3N8S4I</td>\n",
       "      <td>0.586</td>\n",
       "      <td>0.896</td>\n",
       "      <td>10</td>\n",
       "      <td>-6.687</td>\n",
       "      <td>0.10400</td>\n",
       "      <td>0.0559</td>\n",
       "      <td>0.00000</td>\n",
       "      <td>0.790</td>\n",
       "      <td>0.642</td>\n",
       "      <td>116.971</td>\n",
       "      <td>196653</td>\n",
       "      <td>Hip-Hop/Rap</td>\n",
       "    </tr>\n",
       "    <tr>\n",
       "      <th>19</th>\n",
       "      <td>Future</td>\n",
       "      <td>High Off Life</td>\n",
       "      <td>Life Is Good (feat. Drake)</td>\n",
       "      <td>1K5KBOgreBi5fkEHvg5ap3</td>\n",
       "      <td>0.574</td>\n",
       "      <td>0.795</td>\n",
       "      <td>2</td>\n",
       "      <td>-6.903</td>\n",
       "      <td>0.06700</td>\n",
       "      <td>0.4870</td>\n",
       "      <td>0.00000</td>\n",
       "      <td>0.150</td>\n",
       "      <td>0.537</td>\n",
       "      <td>142.053</td>\n",
       "      <td>237918</td>\n",
       "      <td>Hip-Hop/Rap</td>\n",
       "    </tr>\n",
       "    <tr>\n",
       "      <th>24</th>\n",
       "      <td>Billie Eilish</td>\n",
       "      <td>everything i wanted</td>\n",
       "      <td>everything i wanted</td>\n",
       "      <td>3ZCTVFBt2Brf31RLEnCkWJ</td>\n",
       "      <td>0.225</td>\n",
       "      <td>0.704</td>\n",
       "      <td>6</td>\n",
       "      <td>-14.454</td>\n",
       "      <td>0.90200</td>\n",
       "      <td>0.0994</td>\n",
       "      <td>0.65700</td>\n",
       "      <td>0.106</td>\n",
       "      <td>0.243</td>\n",
       "      <td>120.006</td>\n",
       "      <td>245426</td>\n",
       "      <td>Pop</td>\n",
       "    </tr>\n",
       "    <tr>\n",
       "      <th>41</th>\n",
       "      <td>Black Eyed Peas</td>\n",
       "      <td>Translation</td>\n",
       "      <td>RITMO (Bad Boys For Life)</td>\n",
       "      <td>4NCsrTzgVfsDo8nWyP8PPc</td>\n",
       "      <td>0.704</td>\n",
       "      <td>0.723</td>\n",
       "      <td>10</td>\n",
       "      <td>-7.088</td>\n",
       "      <td>0.02590</td>\n",
       "      <td>0.0571</td>\n",
       "      <td>0.00109</td>\n",
       "      <td>0.792</td>\n",
       "      <td>0.684</td>\n",
       "      <td>105.095</td>\n",
       "      <td>214935</td>\n",
       "      <td>Pop</td>\n",
       "    </tr>\n",
       "    <tr>\n",
       "      <th>49</th>\n",
       "      <td>Travis Scott</td>\n",
       "      <td>ASTROWORLD</td>\n",
       "      <td>SICKO MODE</td>\n",
       "      <td>2xLMifQCjDGFmkHkpNLD9h</td>\n",
       "      <td>0.730</td>\n",
       "      <td>0.834</td>\n",
       "      <td>8</td>\n",
       "      <td>-3.714</td>\n",
       "      <td>0.00513</td>\n",
       "      <td>0.2220</td>\n",
       "      <td>0.00000</td>\n",
       "      <td>0.124</td>\n",
       "      <td>0.446</td>\n",
       "      <td>155.008</td>\n",
       "      <td>312820</td>\n",
       "      <td>Hip-Hop/Rap</td>\n",
       "    </tr>\n",
       "  </tbody>\n",
       "</table>\n",
       "</div>"
      ],
      "text/plain": [
       "             artist                                  album  \\\n",
       "2       Roddy Ricch  Please Excuse Me For Being Antisocial   \n",
       "19           Future                          High Off Life   \n",
       "24    Billie Eilish                    everything i wanted   \n",
       "41  Black Eyed Peas                            Translation   \n",
       "49     Travis Scott                             ASTROWORLD   \n",
       "\n",
       "                    track_name                track_id  energy  danceability  \\\n",
       "2                      The Box  0nbXyq5TXYPCO7pr3N8S4I   0.586         0.896   \n",
       "19  Life Is Good (feat. Drake)  1K5KBOgreBi5fkEHvg5ap3   0.574         0.795   \n",
       "24         everything i wanted  3ZCTVFBt2Brf31RLEnCkWJ   0.225         0.704   \n",
       "41   RITMO (Bad Boys For Life)  4NCsrTzgVfsDo8nWyP8PPc   0.704         0.723   \n",
       "49                  SICKO MODE  2xLMifQCjDGFmkHkpNLD9h   0.730         0.834   \n",
       "\n",
       "    key  loudness  acousticness  speechiness  instrumentalness  liveness  \\\n",
       "2    10    -6.687       0.10400       0.0559           0.00000     0.790   \n",
       "19    2    -6.903       0.06700       0.4870           0.00000     0.150   \n",
       "24    6   -14.454       0.90200       0.0994           0.65700     0.106   \n",
       "41   10    -7.088       0.02590       0.0571           0.00109     0.792   \n",
       "49    8    -3.714       0.00513       0.2220           0.00000     0.124   \n",
       "\n",
       "    valence    tempo  duration_ms        genre  \n",
       "2     0.642  116.971       196653  Hip-Hop/Rap  \n",
       "19    0.537  142.053       237918  Hip-Hop/Rap  \n",
       "24    0.243  120.006       245426          Pop  \n",
       "41    0.684  105.095       214935          Pop  \n",
       "49    0.446  155.008       312820  Hip-Hop/Rap  "
      ]
     },
     "execution_count": 10,
     "metadata": {},
     "output_type": "execute_result"
    }
   ],
   "source": [
    "df[outliers_mask.any(axis=1)]"
   ]
  },
  {
   "cell_type": "markdown",
   "id": "46f96e3f-d559-4e9e-8ef9-e30cab7a6d6f",
   "metadata": {},
   "source": [
    "There are values lying outside of 3 sigmas. All values look adequate, let's count as there are no outliers in the dataset."
   ]
  },
  {
   "cell_type": "markdown",
   "id": "7f206e65-43a0-4523-9d2c-252f445b2732",
   "metadata": {},
   "source": [
    "## Perform exploratory data analysis. Your analysis should provide answers to these questions:"
   ]
  },
  {
   "cell_type": "markdown",
   "id": "6f3b8973-ee5f-4d28-8b4c-1d036225fb6d",
   "metadata": {},
   "source": [
    "### How many observations are there in this dataset?"
   ]
  },
  {
   "cell_type": "code",
   "execution_count": 11,
   "id": "bed54854-6d28-44c6-811d-75f09baccedd",
   "metadata": {},
   "outputs": [],
   "source": [
    "num_obs = df.shape[0]"
   ]
  },
  {
   "cell_type": "code",
   "execution_count": 12,
   "id": "e435d974-0410-4366-af9c-675bc3dad1b3",
   "metadata": {},
   "outputs": [
    {
     "data": {
      "text/plain": [
       "'There are 50 observations'"
      ]
     },
     "execution_count": 12,
     "metadata": {},
     "output_type": "execute_result"
    }
   ],
   "source": [
    "f'There are {df.shape[0]} observations'"
   ]
  },
  {
   "cell_type": "markdown",
   "id": "e58ac38d-95c5-4a56-bfa9-ae307d86addf",
   "metadata": {},
   "source": [
    "### How many features this dataset has?"
   ]
  },
  {
   "cell_type": "code",
   "execution_count": 13,
   "id": "b091a524-452f-4272-9d96-53bda97a8e51",
   "metadata": {},
   "outputs": [
    {
     "name": "stdout",
     "output_type": "stream",
     "text": [
      "there are 16 features in the dataset\n"
     ]
    }
   ],
   "source": [
    "print(f'there are {df.shape[1]} features in the dataset')"
   ]
  },
  {
   "cell_type": "markdown",
   "id": "741f1f7c-a027-40a7-8ce7-b01c779dc3a5",
   "metadata": {},
   "source": [
    "### Which of the features are categorical?"
   ]
  },
  {
   "cell_type": "code",
   "execution_count": 14,
   "id": "e87cfe22-fedc-44a8-9fbb-9830f082ef76",
   "metadata": {},
   "outputs": [
    {
     "name": "stdout",
     "output_type": "stream",
     "text": [
      "<class 'pandas.core.frame.DataFrame'>\n",
      "Index: 50 entries, 0 to 49\n",
      "Data columns (total 16 columns):\n",
      " #   Column            Non-Null Count  Dtype  \n",
      "---  ------            --------------  -----  \n",
      " 0   artist            50 non-null     object \n",
      " 1   album             50 non-null     object \n",
      " 2   track_name        50 non-null     object \n",
      " 3   track_id          50 non-null     object \n",
      " 4   energy            50 non-null     float64\n",
      " 5   danceability      50 non-null     float64\n",
      " 6   key               50 non-null     int64  \n",
      " 7   loudness          50 non-null     float64\n",
      " 8   acousticness      50 non-null     float64\n",
      " 9   speechiness       50 non-null     float64\n",
      " 10  instrumentalness  50 non-null     float64\n",
      " 11  liveness          50 non-null     float64\n",
      " 12  valence           50 non-null     float64\n",
      " 13  tempo             50 non-null     float64\n",
      " 14  duration_ms       50 non-null     int64  \n",
      " 15  genre             50 non-null     object \n",
      "dtypes: float64(9), int64(2), object(5)\n",
      "memory usage: 6.6+ KB\n"
     ]
    }
   ],
   "source": [
    "df.info()"
   ]
  },
  {
   "cell_type": "code",
   "execution_count": 15,
   "id": "bbae6f9b-12a4-4d50-b86d-c197aee7d01c",
   "metadata": {},
   "outputs": [],
   "source": [
    "cols_categorical = [col for col in df.columns if df[col].dtype == \"object\"]"
   ]
  },
  {
   "cell_type": "code",
   "execution_count": 16,
   "id": "3501cc4f-67ce-4f29-8603-1d49ca48b3d2",
   "metadata": {},
   "outputs": [
    {
     "name": "stdout",
     "output_type": "stream",
     "text": [
      " There are not numeric features in the dataset: ['artist', 'album', 'track_name', 'track_id', 'genre']. However only one can be marked as truely categorical.\n"
     ]
    }
   ],
   "source": [
    "print(f' There are not numeric features in the dataset: {cols_categorical}. However only one can be marked as truely categorical.')"
   ]
  },
  {
   "cell_type": "markdown",
   "id": "eab59104-6637-4c7f-92ac-4a8aea79f835",
   "metadata": {},
   "source": [
    "Categorical feature: 'genre'"
   ]
  },
  {
   "cell_type": "markdown",
   "id": "b0aa18d4-ad3d-484e-9b15-0a1ad9d54933",
   "metadata": {},
   "source": [
    "### Which of the features are numeric?"
   ]
  },
  {
   "cell_type": "code",
   "execution_count": 17,
   "id": "e487c5f1-0e1f-4106-b1eb-5223314c1417",
   "metadata": {},
   "outputs": [
    {
     "data": {
      "text/plain": [
       "\"Numeric features: {'acousticness', 'valence', 'key', 'danceability', 'instrumentalness', 'energy', 'liveness', 'duration_ms', 'tempo', 'speechiness', 'loudness'}\""
      ]
     },
     "execution_count": 17,
     "metadata": {},
     "output_type": "execute_result"
    }
   ],
   "source": [
    "f'Numeric features: {set(df.columns) - set(cols_categorical)}'"
   ]
  },
  {
   "cell_type": "markdown",
   "id": "faa8bbcc-1a80-4928-8c4c-e36b8c754e15",
   "metadata": {},
   "source": [
    "### Are there any artists that have more than 1 popular track? If yes, which and how many?"
   ]
  },
  {
   "cell_type": "code",
   "execution_count": 64,
   "id": "87d453ac-6994-46f7-90c9-c54686ffd76b",
   "metadata": {},
   "outputs": [
    {
     "data": {
      "text/plain": [
       "artist\n",
       "Dua Lipa         3\n",
       "Billie Eilish    3\n",
       "Travis Scott     3\n",
       "Harry Styles     2\n",
       "Lewis Capaldi    2\n",
       "Justin Bieber    2\n",
       "Post Malone      2\n",
       "Name: count, dtype: int64"
      ]
     },
     "execution_count": 64,
     "metadata": {},
     "output_type": "execute_result"
    }
   ],
   "source": [
    "# good practice:\n",
    "(df\n",
    "  ['artist']\n",
    "  .value_counts()\n",
    "  .loc[lambda x: x > 1]\n",
    ")"
   ]
  },
  {
   "cell_type": "code",
   "execution_count": 18,
   "id": "1b915fbd-0a15-468a-8dde-bb389a54e4ed",
   "metadata": {},
   "outputs": [],
   "source": [
    "tracks_by_artists = df['artist'].value_counts()"
   ]
  },
  {
   "cell_type": "code",
   "execution_count": 19,
   "id": "ea999f18-1fe2-46ef-abb2-b875882f1efe",
   "metadata": {},
   "outputs": [],
   "source": [
    "artists_with_multiple_songs = tracks_by_artists[tracks_by_artists>1]"
   ]
  },
  {
   "cell_type": "code",
   "execution_count": 20,
   "id": "8935148a-4181-4919-8c1d-4a355ab5bdee",
   "metadata": {},
   "outputs": [
    {
     "data": {
      "text/plain": [
       "\"7 artists with more than one track in the list: {'Dua Lipa': 3, 'Billie Eilish': 3, 'Travis Scott': 3, 'Harry Styles': 2, 'Lewis Capaldi': 2, 'Justin Bieber': 2, 'Post Malone': 2}\""
      ]
     },
     "execution_count": 20,
     "metadata": {},
     "output_type": "execute_result"
    }
   ],
   "source": [
    "f'{len(artists_with_multiple_songs)} artists with more than one track in the list: {artists_with_multiple_songs.to_dict()}'"
   ]
  },
  {
   "cell_type": "markdown",
   "id": "408a353e-cd77-479a-8186-6a9b8e4a90d9",
   "metadata": {},
   "source": [
    "### Who was the most popular artist?"
   ]
  },
  {
   "cell_type": "code",
   "execution_count": 61,
   "id": "301296ac-995b-40e2-808f-85fced327fe0",
   "metadata": {},
   "outputs": [
    {
     "data": {
      "text/plain": [
       "np.int64(3)"
      ]
     },
     "execution_count": 61,
     "metadata": {},
     "output_type": "execute_result"
    }
   ],
   "source": [
    "tracks_by_artists.max()"
   ]
  },
  {
   "cell_type": "code",
   "execution_count": 62,
   "id": "8bf0eddf-7b0b-49d2-9c8e-810cd5c70786",
   "metadata": {},
   "outputs": [
    {
     "data": {
      "text/plain": [
       "artist\n",
       "Dua Lipa         3\n",
       "Billie Eilish    3\n",
       "Travis Scott     3\n",
       "Name: count, dtype: int64"
      ]
     },
     "execution_count": 62,
     "metadata": {},
     "output_type": "execute_result"
    }
   ],
   "source": [
    "tracks_by_artists[tracks_by_artists == tracks_by_artists.max()]"
   ]
  },
  {
   "cell_type": "markdown",
   "id": "a17ad6b5-ab80-444a-b936-0d70362db32f",
   "metadata": {},
   "source": [
    "The most popular artists (with 3 songs in the list): 'Dua Lipa', 'Billie Eilish', 'Travis Scott'"
   ]
  },
  {
   "cell_type": "markdown",
   "id": "9868ebc1-025d-4fdb-9024-f12988a28fa8",
   "metadata": {},
   "source": [
    "### How many artists in total have their songs in the top 50?"
   ]
  },
  {
   "cell_type": "code",
   "execution_count": 23,
   "id": "7a8a3688-bfef-4f40-8d62-07f9f40a185e",
   "metadata": {},
   "outputs": [
    {
     "data": {
      "text/plain": [
       "40"
      ]
     },
     "execution_count": 23,
     "metadata": {},
     "output_type": "execute_result"
    }
   ],
   "source": [
    "len(df['artist'].unique())"
   ]
  },
  {
   "cell_type": "markdown",
   "id": "e4ffcc6e-4be5-424e-bf63-dc96978e72b7",
   "metadata": {},
   "source": [
    "40 artists in total have their songs in the top 50"
   ]
  },
  {
   "cell_type": "markdown",
   "id": "b95da623-c032-4db3-afab-38b020c9cf65",
   "metadata": {},
   "source": [
    "### Are there any albums that have more than 1 popular track? If yes, which and how many?"
   ]
  },
  {
   "cell_type": "code",
   "execution_count": 24,
   "id": "c9ee1e9c-ab33-421e-b2cd-e3b0034cae1a",
   "metadata": {},
   "outputs": [],
   "source": [
    "artist_album = df.groupby(['artist', 'album'])['track_name'].count()"
   ]
  },
  {
   "cell_type": "code",
   "execution_count": 25,
   "id": "4006f4a7-e648-452c-896f-6bbf6cacc066",
   "metadata": {},
   "outputs": [
    {
     "name": "stdout",
     "output_type": "stream",
     "text": [
      "albums that have more than 1 popular track and tracks number:\n",
      "artist         album               \n",
      "Dua Lipa       Future Nostalgia        3\n",
      "Harry Styles   Fine Line               2\n",
      "Justin Bieber  Changes                 2\n",
      "Post Malone    Hollywood's Bleeding    2\n",
      "Name: track_name, dtype: int64\n"
     ]
    }
   ],
   "source": [
    "print(f\"albums that have more than 1 popular track and tracks number:\\n{artist_album[artist_album > 1]}\")"
   ]
  },
  {
   "cell_type": "markdown",
   "id": "626f6417-908a-40fc-b56a-4f4d9161cf51",
   "metadata": {},
   "source": [
    "### How many albums in total have their songs in the top 50?"
   ]
  },
  {
   "cell_type": "code",
   "execution_count": 26,
   "id": "6ec33361-95bd-4bf1-a5b5-58450c17cd8c",
   "metadata": {},
   "outputs": [
    {
     "data": {
      "text/plain": [
       "45"
      ]
     },
     "execution_count": 26,
     "metadata": {},
     "output_type": "execute_result"
    }
   ],
   "source": [
    "df['album'].nunique()"
   ]
  },
  {
   "cell_type": "markdown",
   "id": "44bd6110-c918-461b-b945-b797ccf011cd",
   "metadata": {},
   "source": [
    "albums in total have their songs in the top 50: 45"
   ]
  },
  {
   "cell_type": "markdown",
   "id": "9b5538ae-085e-4fe6-bf68-eac6d2086ac7",
   "metadata": {},
   "source": [
    "### Which tracks have a danceability score above 0.7?"
   ]
  },
  {
   "cell_type": "code",
   "execution_count": 27,
   "id": "ad120112-e2a9-496d-ac53-166309014062",
   "metadata": {},
   "outputs": [],
   "source": [
    "danceability_above_0_7 = df[df['danceability']>0.7][['track_name', 'danceability']].reset_index(drop=True)"
   ]
  },
  {
   "cell_type": "code",
   "execution_count": 28,
   "id": "45398031-5d22-4ee0-a835-53cb3b74e682",
   "metadata": {},
   "outputs": [
    {
     "name": "stdout",
     "output_type": "stream",
     "text": [
      "32 tracks have a danceability score above 0.7:\n",
      "                                       track_name  danceability\n",
      "0                                    Dance Monkey         0.825\n",
      "1                                         The Box         0.896\n",
      "2                           Roses - Imanbek Remix         0.785\n",
      "3                                 Don't Start Now         0.793\n",
      "4                    ROCKSTAR (feat. Roddy Ricch)         0.746\n",
      "5                death bed (coffee for your head)         0.726\n",
      "6                                         Falling         0.784\n",
      "7                                            Tusa         0.803\n",
      "8                                 Blueberry Faygo         0.774\n",
      "9                        Intentions (feat. Quavo)         0.806\n",
      "10                                   Toosie Slide         0.830\n",
      "11                                         Say So         0.787\n",
      "12                                       Memories         0.764\n",
      "13                     Life Is Good (feat. Drake)         0.795\n",
      "14               Savage Love (Laxed - Siren Beat)         0.767\n",
      "15                                    Breaking Me         0.789\n",
      "16                            everything i wanted         0.704\n",
      "17                                       Señorita         0.759\n",
      "18                                        bad guy         0.701\n",
      "19                WAP (feat. Megan Thee Stallion)         0.935\n",
      "20                                    Sunday Best         0.878\n",
      "21                    Godzilla (feat. Juice WRLD)         0.808\n",
      "22                                 Break My Heart         0.730\n",
      "23                                       Dynamite         0.746\n",
      "24               Supalonely (feat. Gus Dapperton)         0.862\n",
      "25  Sunflower - Spider-Man: Into the Spider-Verse         0.755\n",
      "26                                          Hawái         0.783\n",
      "27                                        Ride It         0.880\n",
      "28                                     goosebumps         0.841\n",
      "29                      RITMO (Bad Boys For Life)         0.723\n",
      "30                                     THE SCOTTS         0.716\n",
      "31                                     SICKO MODE         0.834\n"
     ]
    }
   ],
   "source": [
    "print(f\"{df['track_name'][df['danceability']>0.7].count()} tracks have a danceability score above 0.7:\\n{danceability_above_0_7}\")"
   ]
  },
  {
   "cell_type": "markdown",
   "id": "60f39b32-446b-4467-9f87-9e7b0f6c8366",
   "metadata": {},
   "source": [
    "### Which tracks have a danceability score below 0.4?"
   ]
  },
  {
   "cell_type": "code",
   "execution_count": 29,
   "id": "c8ca85c2-12db-4a9e-b0e4-6c1b0ace3792",
   "metadata": {},
   "outputs": [],
   "source": [
    "danceability_below_0_4 = df[df['danceability']<0.4][['track_name', 'danceability']].reset_index(drop=True)"
   ]
  },
  {
   "cell_type": "code",
   "execution_count": 65,
   "id": "103dc632-809d-4b99-b06a-6256682b7c4b",
   "metadata": {},
   "outputs": [
    {
     "name": "stdout",
     "output_type": "stream",
     "text": [
      "1 track/s have a danceability score below 0.4:\n",
      "             track_name  danceability\n",
      "0  lovely (with Khalid)         0.351\n"
     ]
    }
   ],
   "source": [
    "print(f\"{len(danceability_below_0_4)} track/s have a danceability score below 0.4:\\n{danceability_below_0_4}\")"
   ]
  },
  {
   "cell_type": "markdown",
   "id": "3da7b34f-6208-468a-b4a6-0e8ed844c21f",
   "metadata": {},
   "source": [
    "### Which tracks have their loudness above -5?"
   ]
  },
  {
   "cell_type": "code",
   "execution_count": 31,
   "id": "bcb93dda-948b-4e71-bc94-8cdb2bca0e49",
   "metadata": {},
   "outputs": [],
   "source": [
    "loudness_above_neg_5 = df['track_name'][df['loudness']>-5]"
   ]
  },
  {
   "cell_type": "code",
   "execution_count": 67,
   "id": "c4a50c96-0b44-4e29-85c6-faca39b69814",
   "metadata": {},
   "outputs": [
    {
     "name": "stdout",
     "output_type": "stream",
     "text": [
      "19 tracks have their loudness above -5:\n",
      "0                                   Don't Start Now\n",
      "1                                  Watermelon Sugar\n",
      "2                                              Tusa\n",
      "3                                           Circles\n",
      "4                                     Before You Go\n",
      "5                                            Say So\n",
      "6                                         Adore You\n",
      "7                            Mood (feat. iann dior)\n",
      "8                                    Break My Heart\n",
      "9                                          Dynamite\n",
      "10                 Supalonely (feat. Gus Dapperton)\n",
      "11                  Rain On Me (with Ariana Grande)\n",
      "12    Sunflower - Spider-Man: Into the Spider-Verse\n",
      "13                                            Hawái\n",
      "14                                          Ride It\n",
      "15                                       goosebumps\n",
      "16                                          Safaera\n",
      "17                                         Physical\n",
      "18                                       SICKO MODE\n",
      "Name: track_name, dtype: object\n"
     ]
    }
   ],
   "source": [
    "print(f\"{len(loudness_above_neg_5)} tracks have their loudness above -5:\\n{loudness_above_neg_5.reset_index(drop=True)}\")"
   ]
  },
  {
   "cell_type": "markdown",
   "id": "b4d87c7b-b6e5-4839-b69b-ad988d0e90cb",
   "metadata": {},
   "source": [
    "### Which tracks have their loudness below -8?"
   ]
  },
  {
   "cell_type": "code",
   "execution_count": 33,
   "id": "5ba1e082-31eb-4424-856d-436233eb3499",
   "metadata": {},
   "outputs": [],
   "source": [
    "loudness_below_neg_8 = df['track_name'][df['loudness']<-8]"
   ]
  },
  {
   "cell_type": "code",
   "execution_count": 34,
   "id": "f70d6503-5502-4ef3-be98-2d9c74c54035",
   "metadata": {},
   "outputs": [
    {
     "name": "stdout",
     "output_type": "stream",
     "text": [
      "9 tracks have their loudness below -8:\n",
      "0                  death bed (coffee for your head)\n",
      "1                                           Falling\n",
      "2                                      Toosie Slide\n",
      "3                  Savage Love (Laxed - Siren Beat)\n",
      "4                               everything i wanted\n",
      "5                                           bad guy\n",
      "6                               HIGHEST IN THE ROOM\n",
      "7                              lovely (with Khalid)\n",
      "8    If the World Was Ending - feat. Julia Michaels\n",
      "Name: track_name, dtype: object\n"
     ]
    }
   ],
   "source": [
    "print(f\"{len(loudness_below_neg_8)} tracks have their loudness below -8:\\n{loudness_below_neg_8.reset_index(drop=True)}\")"
   ]
  },
  {
   "cell_type": "markdown",
   "id": "da897f7f-c2a3-4952-be8d-5f419fa36d57",
   "metadata": {},
   "source": [
    "### Which track is the longest?"
   ]
  },
  {
   "cell_type": "code",
   "execution_count": 35,
   "id": "74fc8570-7bc8-4a76-8c42-8a1901960e0f",
   "metadata": {},
   "outputs": [
    {
     "data": {
      "text/html": [
       "<div>\n",
       "<style scoped>\n",
       "    .dataframe tbody tr th:only-of-type {\n",
       "        vertical-align: middle;\n",
       "    }\n",
       "\n",
       "    .dataframe tbody tr th {\n",
       "        vertical-align: top;\n",
       "    }\n",
       "\n",
       "    .dataframe thead th {\n",
       "        text-align: right;\n",
       "    }\n",
       "</style>\n",
       "<table border=\"1\" class=\"dataframe\">\n",
       "  <thead>\n",
       "    <tr style=\"text-align: right;\">\n",
       "      <th></th>\n",
       "      <th>49</th>\n",
       "    </tr>\n",
       "  </thead>\n",
       "  <tbody>\n",
       "    <tr>\n",
       "      <th>track_name</th>\n",
       "      <td>SICKO MODE</td>\n",
       "    </tr>\n",
       "    <tr>\n",
       "      <th>duration_ms</th>\n",
       "      <td>312820</td>\n",
       "    </tr>\n",
       "  </tbody>\n",
       "</table>\n",
       "</div>"
      ],
      "text/plain": [
       "                     49\n",
       "track_name   SICKO MODE\n",
       "duration_ms      312820"
      ]
     },
     "execution_count": 35,
     "metadata": {},
     "output_type": "execute_result"
    }
   ],
   "source": [
    "df[['track_name','duration_ms']].iloc[df['duration_ms'].idxmax()].to_frame()"
   ]
  },
  {
   "cell_type": "markdown",
   "id": "dae6eede-1aa7-4664-ad66-d262d0c0b585",
   "metadata": {},
   "source": [
    "'SICKO MODE' is the longest in the list with 312 secs (5 min 12 s)"
   ]
  },
  {
   "cell_type": "markdown",
   "id": "fa47f95d-723a-49c8-80ca-477dd731b5aa",
   "metadata": {},
   "source": [
    "### Which track is the shortest?"
   ]
  },
  {
   "cell_type": "code",
   "execution_count": 36,
   "id": "0414463a-47dd-46a4-ab54-01db89d69b42",
   "metadata": {},
   "outputs": [
    {
     "data": {
      "text/html": [
       "<div>\n",
       "<style scoped>\n",
       "    .dataframe tbody tr th:only-of-type {\n",
       "        vertical-align: middle;\n",
       "    }\n",
       "\n",
       "    .dataframe tbody tr th {\n",
       "        vertical-align: top;\n",
       "    }\n",
       "\n",
       "    .dataframe thead th {\n",
       "        text-align: right;\n",
       "    }\n",
       "</style>\n",
       "<table border=\"1\" class=\"dataframe\">\n",
       "  <thead>\n",
       "    <tr style=\"text-align: right;\">\n",
       "      <th></th>\n",
       "      <th>23</th>\n",
       "    </tr>\n",
       "  </thead>\n",
       "  <tbody>\n",
       "    <tr>\n",
       "      <th>track_name</th>\n",
       "      <td>Mood (feat. iann dior)</td>\n",
       "    </tr>\n",
       "    <tr>\n",
       "      <th>duration_ms</th>\n",
       "      <td>140526</td>\n",
       "    </tr>\n",
       "  </tbody>\n",
       "</table>\n",
       "</div>"
      ],
      "text/plain": [
       "                                 23\n",
       "track_name   Mood (feat. iann dior)\n",
       "duration_ms                  140526"
      ]
     },
     "execution_count": 36,
     "metadata": {},
     "output_type": "execute_result"
    }
   ],
   "source": [
    "df[['track_name','duration_ms']].iloc[df['duration_ms'].idxmin()].to_frame()"
   ]
  },
  {
   "cell_type": "markdown",
   "id": "795e2903-a899-4092-b4ac-e5636c1dce7e",
   "metadata": {},
   "source": [
    "'Mood (feat. iann dior)' is the shortest song: 141 secs (2 min 21 s)"
   ]
  },
  {
   "cell_type": "markdown",
   "id": "94cb5939-62fc-4607-87e9-c9e2b35bafd0",
   "metadata": {},
   "source": [
    "### Which genre is the most popular?"
   ]
  },
  {
   "cell_type": "code",
   "execution_count": 37,
   "id": "07455f8a-4658-448e-a1fe-21057a8a6fdc",
   "metadata": {},
   "outputs": [],
   "source": [
    "genre_count = df['genre'].value_counts()"
   ]
  },
  {
   "cell_type": "code",
   "execution_count": 38,
   "id": "8099e353-3802-4638-91fa-b9576e9c20bd",
   "metadata": {},
   "outputs": [
    {
     "data": {
      "text/plain": [
       "genre\n",
       "Pop                                   14\n",
       "Hip-Hop/Rap                           13\n",
       "Dance/Electronic                       5\n",
       "Alternative/Indie                      4\n",
       "R&B/Soul                               2\n",
       " Electro-pop                           2\n",
       "R&B/Hip-Hop alternative                1\n",
       "Nu-disco                               1\n",
       "Pop/Soft Rock                          1\n",
       "Pop rap                                1\n",
       "Hip-Hop/Trap                           1\n",
       "Dance-pop/Disco                        1\n",
       "Disco-pop                              1\n",
       "Dreampop/Hip-Hop/R&B                   1\n",
       "Alternative/reggaeton/experimental     1\n",
       "Chamber pop                            1\n",
       "Name: count, dtype: int64"
      ]
     },
     "execution_count": 38,
     "metadata": {},
     "output_type": "execute_result"
    }
   ],
   "source": [
    "genre_count"
   ]
  },
  {
   "cell_type": "code",
   "execution_count": 39,
   "id": "9497ef16-c090-4f03-9789-cacef0556d95",
   "metadata": {},
   "outputs": [
    {
     "data": {
      "text/plain": [
       "genre\n",
       "Pop    14\n",
       "Name: count, dtype: int64"
      ]
     },
     "execution_count": 39,
     "metadata": {},
     "output_type": "execute_result"
    }
   ],
   "source": [
    "genre_count[genre_count == genre_count.iloc[0]]"
   ]
  },
  {
   "cell_type": "markdown",
   "id": "7bf2d11e-506c-40ae-8eec-b98f935d86c4",
   "metadata": {},
   "source": [
    "POP genre has the greatest number songs in the list: 14."
   ]
  },
  {
   "cell_type": "markdown",
   "id": "f386d799-7369-4ae2-a466-a00f11650b57",
   "metadata": {},
   "source": [
    "### Which genres have just one song on the top 50?"
   ]
  },
  {
   "cell_type": "code",
   "execution_count": 40,
   "id": "0b9d1bf5-fa18-4e2f-b667-57fd93cc3ba6",
   "metadata": {},
   "outputs": [
    {
     "data": {
      "text/plain": [
       "Index(['R&B/Hip-Hop alternative', 'Nu-disco', 'Pop/Soft Rock', 'Pop rap',\n",
       "       'Hip-Hop/Trap', 'Dance-pop/Disco', 'Disco-pop', 'Dreampop/Hip-Hop/R&B',\n",
       "       'Alternative/reggaeton/experimental', 'Chamber pop'],\n",
       "      dtype='object', name='genre')"
      ]
     },
     "execution_count": 40,
     "metadata": {},
     "output_type": "execute_result"
    }
   ],
   "source": [
    "genre_count[genre_count == 1].index"
   ]
  },
  {
   "cell_type": "code",
   "execution_count": 41,
   "id": "630da84f-44c5-4c83-b430-b5b0d246a739",
   "metadata": {},
   "outputs": [
    {
     "data": {
      "text/plain": [
       "np.int64(10)"
      ]
     },
     "execution_count": 41,
     "metadata": {},
     "output_type": "execute_result"
    }
   ],
   "source": [
    "genre_count[genre_count == 1].count()"
   ]
  },
  {
   "cell_type": "markdown",
   "id": "42e3ac90-e616-4049-9e01-f5f81b1dd5a3",
   "metadata": {},
   "source": [
    "10 genres have just one song on the top 50: 'R&B/Hip-Hop alternative', 'Nu-disco', 'Pop/Soft Rock', 'Pop rap', 'Hip-Hop/Trap', 'Dance-pop/Disco', 'Disco-pop', 'Dreampop/Hip-Hop/R&B', 'Alternative/reggaeton/experimental', 'Chamber pop'"
   ]
  },
  {
   "cell_type": "markdown",
   "id": "4b801ca6-cf4e-4ee3-b0e5-627bebb8d4f7",
   "metadata": {},
   "source": [
    "### How many genres in total are represented in the top 50?"
   ]
  },
  {
   "cell_type": "code",
   "execution_count": 42,
   "id": "34d3d000-b688-47df-a617-ebf4d9ec7e86",
   "metadata": {},
   "outputs": [
    {
     "data": {
      "text/plain": [
       "16"
      ]
     },
     "execution_count": 42,
     "metadata": {},
     "output_type": "execute_result"
    }
   ],
   "source": [
    "df['genre'].nunique()"
   ]
  },
  {
   "cell_type": "markdown",
   "id": "8a4b0ec6-792a-4c7f-8844-ddcebd122537",
   "metadata": {},
   "source": [
    "16 genres in total are represented in the top 50"
   ]
  },
  {
   "cell_type": "markdown",
   "id": "8c63d99d-ee16-4415-a831-656cab41aecc",
   "metadata": {},
   "source": [
    "### Which features are strongly positively correlated?"
   ]
  },
  {
   "cell_type": "code",
   "execution_count": 43,
   "id": "06676b65-aed7-4772-94d6-979befb7d941",
   "metadata": {},
   "outputs": [],
   "source": [
    "cols_numeric = [col for col in df.columns if df[col].dtype != \"object\"]"
   ]
  },
  {
   "cell_type": "code",
   "execution_count": 44,
   "id": "edfda27a-de03-4513-ada8-3c6bc3827a97",
   "metadata": {},
   "outputs": [],
   "source": [
    "cor_matrix = df[cols_numeric].corr()"
   ]
  },
  {
   "cell_type": "code",
   "execution_count": 45,
   "id": "0df6e363-c1b6-4aee-8e35-2e5acf4c112c",
   "metadata": {},
   "outputs": [
    {
     "data": {
      "text/html": [
       "<div>\n",
       "<style scoped>\n",
       "    .dataframe tbody tr th:only-of-type {\n",
       "        vertical-align: middle;\n",
       "    }\n",
       "\n",
       "    .dataframe tbody tr th {\n",
       "        vertical-align: top;\n",
       "    }\n",
       "\n",
       "    .dataframe thead th {\n",
       "        text-align: right;\n",
       "    }\n",
       "</style>\n",
       "<table border=\"1\" class=\"dataframe\">\n",
       "  <thead>\n",
       "    <tr style=\"text-align: right;\">\n",
       "      <th></th>\n",
       "      <th>energy</th>\n",
       "      <th>danceability</th>\n",
       "      <th>key</th>\n",
       "      <th>loudness</th>\n",
       "      <th>acousticness</th>\n",
       "      <th>speechiness</th>\n",
       "      <th>instrumentalness</th>\n",
       "      <th>liveness</th>\n",
       "      <th>valence</th>\n",
       "      <th>tempo</th>\n",
       "      <th>duration_ms</th>\n",
       "    </tr>\n",
       "  </thead>\n",
       "  <tbody>\n",
       "    <tr>\n",
       "      <th>energy</th>\n",
       "      <td>1.000000</td>\n",
       "      <td>0.152552</td>\n",
       "      <td>0.062428</td>\n",
       "      <td>0.791640</td>\n",
       "      <td>-0.682479</td>\n",
       "      <td>0.074267</td>\n",
       "      <td>-0.385515</td>\n",
       "      <td>0.069487</td>\n",
       "      <td>0.393453</td>\n",
       "      <td>0.075191</td>\n",
       "      <td>0.081971</td>\n",
       "    </tr>\n",
       "    <tr>\n",
       "      <th>danceability</th>\n",
       "      <td>0.152552</td>\n",
       "      <td>1.000000</td>\n",
       "      <td>0.285036</td>\n",
       "      <td>0.167147</td>\n",
       "      <td>-0.359135</td>\n",
       "      <td>0.226148</td>\n",
       "      <td>-0.017706</td>\n",
       "      <td>-0.006648</td>\n",
       "      <td>0.479953</td>\n",
       "      <td>0.168956</td>\n",
       "      <td>-0.033763</td>\n",
       "    </tr>\n",
       "    <tr>\n",
       "      <th>key</th>\n",
       "      <td>0.062428</td>\n",
       "      <td>0.285036</td>\n",
       "      <td>1.000000</td>\n",
       "      <td>-0.009178</td>\n",
       "      <td>-0.113394</td>\n",
       "      <td>-0.094965</td>\n",
       "      <td>0.020802</td>\n",
       "      <td>0.278672</td>\n",
       "      <td>0.120007</td>\n",
       "      <td>0.080475</td>\n",
       "      <td>-0.003345</td>\n",
       "    </tr>\n",
       "    <tr>\n",
       "      <th>loudness</th>\n",
       "      <td>0.791640</td>\n",
       "      <td>0.167147</td>\n",
       "      <td>-0.009178</td>\n",
       "      <td>1.000000</td>\n",
       "      <td>-0.498695</td>\n",
       "      <td>-0.021693</td>\n",
       "      <td>-0.553735</td>\n",
       "      <td>-0.069939</td>\n",
       "      <td>0.406772</td>\n",
       "      <td>0.102097</td>\n",
       "      <td>0.064130</td>\n",
       "    </tr>\n",
       "    <tr>\n",
       "      <th>acousticness</th>\n",
       "      <td>-0.682479</td>\n",
       "      <td>-0.359135</td>\n",
       "      <td>-0.113394</td>\n",
       "      <td>-0.498695</td>\n",
       "      <td>1.000000</td>\n",
       "      <td>-0.135392</td>\n",
       "      <td>0.352184</td>\n",
       "      <td>-0.128384</td>\n",
       "      <td>-0.243192</td>\n",
       "      <td>-0.241119</td>\n",
       "      <td>-0.010988</td>\n",
       "    </tr>\n",
       "    <tr>\n",
       "      <th>speechiness</th>\n",
       "      <td>0.074267</td>\n",
       "      <td>0.226148</td>\n",
       "      <td>-0.094965</td>\n",
       "      <td>-0.021693</td>\n",
       "      <td>-0.135392</td>\n",
       "      <td>1.000000</td>\n",
       "      <td>0.028948</td>\n",
       "      <td>-0.142957</td>\n",
       "      <td>0.053867</td>\n",
       "      <td>0.215504</td>\n",
       "      <td>0.366976</td>\n",
       "    </tr>\n",
       "    <tr>\n",
       "      <th>instrumentalness</th>\n",
       "      <td>-0.385515</td>\n",
       "      <td>-0.017706</td>\n",
       "      <td>0.020802</td>\n",
       "      <td>-0.553735</td>\n",
       "      <td>0.352184</td>\n",
       "      <td>0.028948</td>\n",
       "      <td>1.000000</td>\n",
       "      <td>-0.087034</td>\n",
       "      <td>-0.203283</td>\n",
       "      <td>0.018853</td>\n",
       "      <td>0.184709</td>\n",
       "    </tr>\n",
       "    <tr>\n",
       "      <th>liveness</th>\n",
       "      <td>0.069487</td>\n",
       "      <td>-0.006648</td>\n",
       "      <td>0.278672</td>\n",
       "      <td>-0.069939</td>\n",
       "      <td>-0.128384</td>\n",
       "      <td>-0.142957</td>\n",
       "      <td>-0.087034</td>\n",
       "      <td>1.000000</td>\n",
       "      <td>-0.033366</td>\n",
       "      <td>0.025457</td>\n",
       "      <td>-0.090188</td>\n",
       "    </tr>\n",
       "    <tr>\n",
       "      <th>valence</th>\n",
       "      <td>0.393453</td>\n",
       "      <td>0.479953</td>\n",
       "      <td>0.120007</td>\n",
       "      <td>0.406772</td>\n",
       "      <td>-0.243192</td>\n",
       "      <td>0.053867</td>\n",
       "      <td>-0.203283</td>\n",
       "      <td>-0.033366</td>\n",
       "      <td>1.000000</td>\n",
       "      <td>0.045089</td>\n",
       "      <td>-0.039794</td>\n",
       "    </tr>\n",
       "    <tr>\n",
       "      <th>tempo</th>\n",
       "      <td>0.075191</td>\n",
       "      <td>0.168956</td>\n",
       "      <td>0.080475</td>\n",
       "      <td>0.102097</td>\n",
       "      <td>-0.241119</td>\n",
       "      <td>0.215504</td>\n",
       "      <td>0.018853</td>\n",
       "      <td>0.025457</td>\n",
       "      <td>0.045089</td>\n",
       "      <td>1.000000</td>\n",
       "      <td>0.130328</td>\n",
       "    </tr>\n",
       "    <tr>\n",
       "      <th>duration_ms</th>\n",
       "      <td>0.081971</td>\n",
       "      <td>-0.033763</td>\n",
       "      <td>-0.003345</td>\n",
       "      <td>0.064130</td>\n",
       "      <td>-0.010988</td>\n",
       "      <td>0.366976</td>\n",
       "      <td>0.184709</td>\n",
       "      <td>-0.090188</td>\n",
       "      <td>-0.039794</td>\n",
       "      <td>0.130328</td>\n",
       "      <td>1.000000</td>\n",
       "    </tr>\n",
       "  </tbody>\n",
       "</table>\n",
       "</div>"
      ],
      "text/plain": [
       "                    energy  danceability       key  loudness  acousticness  \\\n",
       "energy            1.000000      0.152552  0.062428  0.791640     -0.682479   \n",
       "danceability      0.152552      1.000000  0.285036  0.167147     -0.359135   \n",
       "key               0.062428      0.285036  1.000000 -0.009178     -0.113394   \n",
       "loudness          0.791640      0.167147 -0.009178  1.000000     -0.498695   \n",
       "acousticness     -0.682479     -0.359135 -0.113394 -0.498695      1.000000   \n",
       "speechiness       0.074267      0.226148 -0.094965 -0.021693     -0.135392   \n",
       "instrumentalness -0.385515     -0.017706  0.020802 -0.553735      0.352184   \n",
       "liveness          0.069487     -0.006648  0.278672 -0.069939     -0.128384   \n",
       "valence           0.393453      0.479953  0.120007  0.406772     -0.243192   \n",
       "tempo             0.075191      0.168956  0.080475  0.102097     -0.241119   \n",
       "duration_ms       0.081971     -0.033763 -0.003345  0.064130     -0.010988   \n",
       "\n",
       "                  speechiness  instrumentalness  liveness   valence     tempo  \\\n",
       "energy               0.074267         -0.385515  0.069487  0.393453  0.075191   \n",
       "danceability         0.226148         -0.017706 -0.006648  0.479953  0.168956   \n",
       "key                 -0.094965          0.020802  0.278672  0.120007  0.080475   \n",
       "loudness            -0.021693         -0.553735 -0.069939  0.406772  0.102097   \n",
       "acousticness        -0.135392          0.352184 -0.128384 -0.243192 -0.241119   \n",
       "speechiness          1.000000          0.028948 -0.142957  0.053867  0.215504   \n",
       "instrumentalness     0.028948          1.000000 -0.087034 -0.203283  0.018853   \n",
       "liveness            -0.142957         -0.087034  1.000000 -0.033366  0.025457   \n",
       "valence              0.053867         -0.203283 -0.033366  1.000000  0.045089   \n",
       "tempo                0.215504          0.018853  0.025457  0.045089  1.000000   \n",
       "duration_ms          0.366976          0.184709 -0.090188 -0.039794  0.130328   \n",
       "\n",
       "                  duration_ms  \n",
       "energy               0.081971  \n",
       "danceability        -0.033763  \n",
       "key                 -0.003345  \n",
       "loudness             0.064130  \n",
       "acousticness        -0.010988  \n",
       "speechiness          0.366976  \n",
       "instrumentalness     0.184709  \n",
       "liveness            -0.090188  \n",
       "valence             -0.039794  \n",
       "tempo                0.130328  \n",
       "duration_ms          1.000000  "
      ]
     },
     "execution_count": 45,
     "metadata": {},
     "output_type": "execute_result"
    }
   ],
   "source": [
    "cor_matrix"
   ]
  },
  {
   "cell_type": "code",
   "execution_count": 46,
   "id": "97e4a368-480c-48e7-96c7-ef33473811b8",
   "metadata": {},
   "outputs": [],
   "source": [
    "cor_matrix_stacked = cor_matrix.unstack()"
   ]
  },
  {
   "cell_type": "code",
   "execution_count": 47,
   "id": "f2952915-aa67-4b2e-baa8-09674d998c06",
   "metadata": {},
   "outputs": [],
   "source": [
    "cor_matrix_stacked = cor_matrix_stacked[cor_matrix_stacked != 1]"
   ]
  },
  {
   "cell_type": "code",
   "execution_count": 48,
   "id": "6f75cabb-558c-4386-874d-d236231fc8cd",
   "metadata": {},
   "outputs": [
    {
     "data": {
      "text/plain": [
       "energy       danceability        0.152552\n",
       "             key                 0.062428\n",
       "             loudness            0.791640\n",
       "             acousticness       -0.682479\n",
       "             speechiness         0.074267\n",
       "                                   ...   \n",
       "duration_ms  speechiness         0.366976\n",
       "             instrumentalness    0.184709\n",
       "             liveness           -0.090188\n",
       "             valence            -0.039794\n",
       "             tempo               0.130328\n",
       "Length: 110, dtype: float64"
      ]
     },
     "execution_count": 48,
     "metadata": {},
     "output_type": "execute_result"
    }
   ],
   "source": [
    "cor_matrix_stacked"
   ]
  },
  {
   "cell_type": "code",
   "execution_count": 49,
   "id": "6875624a-8ea1-4fdd-9542-e59df64a1f55",
   "metadata": {},
   "outputs": [],
   "source": [
    "correlation_dict_mirrored = cor_matrix_stacked.sort_values().to_dict()"
   ]
  },
  {
   "cell_type": "code",
   "execution_count": 50,
   "id": "a71421c6-a481-4cb5-b7ef-f35b2f63e03f",
   "metadata": {},
   "outputs": [],
   "source": [
    "correlation_dict = {}"
   ]
  },
  {
   "cell_type": "code",
   "execution_count": 51,
   "id": "8573daab-3d72-4292-9220-cf78b5f274c9",
   "metadata": {},
   "outputs": [],
   "source": [
    "for item in correlation_dict_mirrored:\n",
    "    if (item[1], item[0]) not in correlation_dict:\n",
    "        correlation_dict.update({item: correlation_dict_mirrored[item]})"
   ]
  },
  {
   "cell_type": "code",
   "execution_count": 52,
   "id": "ef11c258-6463-444c-b72a-07563e7d8e14",
   "metadata": {},
   "outputs": [
    {
     "data": {
      "text/plain": [
       "{('energy', 'loudness'): 0.7916395653045617}"
      ]
     },
     "execution_count": 52,
     "metadata": {},
     "output_type": "execute_result"
    }
   ],
   "source": [
    "strong_positive_correl = {key:value for key, value in correlation_dict.items() if value>=0.7}\n",
    "strong_positive_correl"
   ]
  },
  {
   "cell_type": "markdown",
   "id": "81523b63-195b-4016-961d-104be3846ee2",
   "metadata": {},
   "source": [
    "('energy', 'loudness') are strongly positively correlated: 0.7916395653045617}"
   ]
  },
  {
   "cell_type": "markdown",
   "id": "945eda56-79ff-43ad-9c8b-3d6931af27a9",
   "metadata": {},
   "source": [
    "### Which features are strongly negatively correlated?"
   ]
  },
  {
   "cell_type": "code",
   "execution_count": 53,
   "id": "d7989630-5e8f-4dbb-974a-260736321217",
   "metadata": {},
   "outputs": [
    {
     "data": {
      "text/plain": [
       "{}"
      ]
     },
     "execution_count": 53,
     "metadata": {},
     "output_type": "execute_result"
    }
   ],
   "source": [
    "strong_negative_correl = {key:value for key, value in correlation_dict.items() if value<=-0.7}\n",
    "strong_negative_correl"
   ]
  },
  {
   "cell_type": "markdown",
   "id": "8ac25676-35ff-4539-9d46-b6ffc9783245",
   "metadata": {},
   "source": [
    "('energy', 'acousticness'): -0.6824785203241528\n",
    "is close to count as strongly correlated"
   ]
  },
  {
   "cell_type": "markdown",
   "id": "bbc2786b-f264-4cb7-aa5e-aacd39f59bf6",
   "metadata": {},
   "source": [
    "### Which features are not correlated?"
   ]
  },
  {
   "cell_type": "code",
   "execution_count": 54,
   "id": "84c3a577-31dd-46d9-a500-518a1f66f976",
   "metadata": {},
   "outputs": [
    {
     "data": {
      "text/plain": [
       "[{('key', 'speechiness'): -0.09496505735843172},\n",
       " {('duration_ms', 'liveness'): -0.09018826695099239},\n",
       " {('liveness', 'instrumentalness'): -0.0870339124461283},\n",
       " {('loudness', 'liveness'): -0.06993949725852708},\n",
       " {('valence', 'duration_ms'): -0.03979436283824896},\n",
       " {('duration_ms', 'danceability'): -0.033763480296644874},\n",
       " {('valence', 'liveness'): -0.03336630340518706},\n",
       " {('loudness', 'speechiness'): -0.021692935459647147},\n",
       " {('danceability', 'instrumentalness'): -0.01770638521729678},\n",
       " {('acousticness', 'duration_ms'): -0.010988051809892976},\n",
       " {('key', 'loudness'): -0.009178410631968104},\n",
       " {('liveness', 'danceability'): -0.006648475599485623},\n",
       " {('key', 'duration_ms'): -0.003345303142861897},\n",
       " {('tempo', 'instrumentalness'): 0.01885267572734445},\n",
       " {('instrumentalness', 'key'): 0.020802356350748005},\n",
       " {('tempo', 'liveness'): 0.025456740041450245},\n",
       " {('instrumentalness', 'speechiness'): 0.028948017426321342},\n",
       " {('valence', 'tempo'): 0.04508867269936379},\n",
       " {('speechiness', 'valence'): 0.05386720274013534},\n",
       " {('energy', 'key'): 0.062428155998836},\n",
       " {('loudness', 'duration_ms'): 0.06413020411872389},\n",
       " {('liveness', 'energy'): 0.0694873918471837},\n",
       " {('energy', 'speechiness'): 0.07426734162813511},\n",
       " {('energy', 'tempo'): 0.07519058796876629},\n",
       " {('tempo', 'key'): 0.080474600534549},\n",
       " {('energy', 'duration_ms'): 0.08197097916072248}]"
      ]
     },
     "execution_count": 54,
     "metadata": {},
     "output_type": "execute_result"
    }
   ],
   "source": [
    "[{item: correlation_dict[item]} for item in correlation_dict if abs(correlation_dict[item])<=0.1]"
   ]
  },
  {
   "cell_type": "markdown",
   "id": "d941feed-6327-4bbc-a565-3640e3c5e071",
   "metadata": {},
   "source": [
    "Not correlated features are shown above. Pairs with correlation within -0.1 to 0.1 are considered as not correlated here."
   ]
  },
  {
   "cell_type": "markdown",
   "id": "342a6d5f-ec5c-4f01-8ee6-f4c3a8581cc4",
   "metadata": {},
   "source": [
    "### How does the danceability score compare between Pop, Hip-Hop/Rap, Dance/Electronic, and Alternative/Indie genres?"
   ]
  },
  {
   "cell_type": "code",
   "execution_count": 55,
   "id": "be379cb6-29b7-4b68-9249-0316ce849082",
   "metadata": {},
   "outputs": [],
   "source": [
    "danceability_genre = df.groupby('genre')['danceability'].agg(['min', 'mean', 'median', 'max'])"
   ]
  },
  {
   "cell_type": "code",
   "execution_count": 56,
   "id": "ce75a55b-6ae2-4faa-8439-0b913ae64b52",
   "metadata": {},
   "outputs": [],
   "source": [
    "danceability_genres_interested = ['Pop', 'Hip-Hop/Rap', 'Dance/Electronic', 'Alternative/Indie']"
   ]
  },
  {
   "cell_type": "code",
   "execution_count": 57,
   "id": "db1f63a0-f8f5-49a2-be05-b716b0a3fe52",
   "metadata": {},
   "outputs": [
    {
     "data": {
      "text/html": [
       "<div>\n",
       "<style scoped>\n",
       "    .dataframe tbody tr th:only-of-type {\n",
       "        vertical-align: middle;\n",
       "    }\n",
       "\n",
       "    .dataframe tbody tr th {\n",
       "        vertical-align: top;\n",
       "    }\n",
       "\n",
       "    .dataframe thead th {\n",
       "        text-align: right;\n",
       "    }\n",
       "</style>\n",
       "<table border=\"1\" class=\"dataframe\">\n",
       "  <thead>\n",
       "    <tr style=\"text-align: right;\">\n",
       "      <th></th>\n",
       "      <th>min</th>\n",
       "      <th>mean</th>\n",
       "      <th>median</th>\n",
       "      <th>max</th>\n",
       "    </tr>\n",
       "    <tr>\n",
       "      <th>genre</th>\n",
       "      <th></th>\n",
       "      <th></th>\n",
       "      <th></th>\n",
       "      <th></th>\n",
       "    </tr>\n",
       "  </thead>\n",
       "  <tbody>\n",
       "    <tr>\n",
       "      <th>Pop</th>\n",
       "      <td>0.464</td>\n",
       "      <td>0.677571</td>\n",
       "      <td>0.690</td>\n",
       "      <td>0.806</td>\n",
       "    </tr>\n",
       "    <tr>\n",
       "      <th>Hip-Hop/Rap</th>\n",
       "      <td>0.598</td>\n",
       "      <td>0.765538</td>\n",
       "      <td>0.774</td>\n",
       "      <td>0.896</td>\n",
       "    </tr>\n",
       "    <tr>\n",
       "      <th>Dance/Electronic</th>\n",
       "      <td>0.647</td>\n",
       "      <td>0.755000</td>\n",
       "      <td>0.785</td>\n",
       "      <td>0.880</td>\n",
       "    </tr>\n",
       "    <tr>\n",
       "      <th>Alternative/Indie</th>\n",
       "      <td>0.459</td>\n",
       "      <td>0.661750</td>\n",
       "      <td>0.663</td>\n",
       "      <td>0.862</td>\n",
       "    </tr>\n",
       "  </tbody>\n",
       "</table>\n",
       "</div>"
      ],
      "text/plain": [
       "                     min      mean  median    max\n",
       "genre                                            \n",
       "Pop                0.464  0.677571   0.690  0.806\n",
       "Hip-Hop/Rap        0.598  0.765538   0.774  0.896\n",
       "Dance/Electronic   0.647  0.755000   0.785  0.880\n",
       "Alternative/Indie  0.459  0.661750   0.663  0.862"
      ]
     },
     "execution_count": 57,
     "metadata": {},
     "output_type": "execute_result"
    }
   ],
   "source": [
    "danceability_genre.loc[danceability_genres_interested]"
   ]
  },
  {
   "cell_type": "markdown",
   "id": "5e9529f9-131f-4bc3-a5e6-f53e4ed54751",
   "metadata": {},
   "source": [
    "danceability doen't differ much for 'Pop', 'Hip-Hop/Rap', 'Dance/Electronic', 'Alternative/Indie' genres."
   ]
  },
  {
   "cell_type": "markdown",
   "id": "da179ca1-fa34-4eab-9811-dd471f4782d9",
   "metadata": {},
   "source": [
    "### How does the acousticness score compare between Pop, Hip-Hop/Rap, Dance/Electronic, and Alternative/Indie genres?"
   ]
  },
  {
   "cell_type": "code",
   "execution_count": 58,
   "id": "f9a29033-5cad-4487-b5a5-61cb781749d4",
   "metadata": {},
   "outputs": [],
   "source": [
    "acousticness_genre = df.groupby('genre')['acousticness'].agg(['min', 'mean', 'median', 'max'])"
   ]
  },
  {
   "cell_type": "code",
   "execution_count": 59,
   "id": "d77e7cd3-939b-4da6-af23-870752a4932d",
   "metadata": {},
   "outputs": [
    {
     "data": {
      "text/html": [
       "<div>\n",
       "<style scoped>\n",
       "    .dataframe tbody tr th:only-of-type {\n",
       "        vertical-align: middle;\n",
       "    }\n",
       "\n",
       "    .dataframe tbody tr th {\n",
       "        vertical-align: top;\n",
       "    }\n",
       "\n",
       "    .dataframe thead th {\n",
       "        text-align: right;\n",
       "    }\n",
       "</style>\n",
       "<table border=\"1\" class=\"dataframe\">\n",
       "  <thead>\n",
       "    <tr style=\"text-align: right;\">\n",
       "      <th></th>\n",
       "      <th>min</th>\n",
       "      <th>mean</th>\n",
       "      <th>median</th>\n",
       "      <th>max</th>\n",
       "    </tr>\n",
       "    <tr>\n",
       "      <th>genre</th>\n",
       "      <th></th>\n",
       "      <th></th>\n",
       "      <th></th>\n",
       "      <th></th>\n",
       "    </tr>\n",
       "  </thead>\n",
       "  <tbody>\n",
       "    <tr>\n",
       "      <th>Pop</th>\n",
       "      <td>0.02100</td>\n",
       "      <td>0.323843</td>\n",
       "      <td>0.2590</td>\n",
       "      <td>0.902</td>\n",
       "    </tr>\n",
       "    <tr>\n",
       "      <th>Hip-Hop/Rap</th>\n",
       "      <td>0.00513</td>\n",
       "      <td>0.188741</td>\n",
       "      <td>0.1450</td>\n",
       "      <td>0.731</td>\n",
       "    </tr>\n",
       "    <tr>\n",
       "      <th>Dance/Electronic</th>\n",
       "      <td>0.01370</td>\n",
       "      <td>0.099440</td>\n",
       "      <td>0.0686</td>\n",
       "      <td>0.223</td>\n",
       "    </tr>\n",
       "    <tr>\n",
       "      <th>Alternative/Indie</th>\n",
       "      <td>0.29100</td>\n",
       "      <td>0.583500</td>\n",
       "      <td>0.6460</td>\n",
       "      <td>0.751</td>\n",
       "    </tr>\n",
       "  </tbody>\n",
       "</table>\n",
       "</div>"
      ],
      "text/plain": [
       "                       min      mean  median    max\n",
       "genre                                              \n",
       "Pop                0.02100  0.323843  0.2590  0.902\n",
       "Hip-Hop/Rap        0.00513  0.188741  0.1450  0.731\n",
       "Dance/Electronic   0.01370  0.099440  0.0686  0.223\n",
       "Alternative/Indie  0.29100  0.583500  0.6460  0.751"
      ]
     },
     "execution_count": 59,
     "metadata": {},
     "output_type": "execute_result"
    }
   ],
   "source": [
    "acousticness_genre.loc[danceability_genres_interested]"
   ]
  },
  {
   "cell_type": "markdown",
   "id": "63dce080-4887-4d26-a641-30e5a9a584eb",
   "metadata": {},
   "source": [
    "Alternative/Indie genre has more acousticness score in average (0.583500) from specified genres. However maximum score has Pop genre song: 0.902."
   ]
  },
  {
   "cell_type": "markdown",
   "id": "d0725269-734a-498d-9f0f-f3bc598a948c",
   "metadata": {},
   "source": [
    "## Results"
   ]
  },
  {
   "cell_type": "code",
   "execution_count": 60,
   "id": "c2c0a115-f8df-4c86-8302-008682735162",
   "metadata": {},
   "outputs": [
    {
     "name": "stdout",
     "output_type": "stream",
     "text": [
      "An average data of track in the dataset:\n",
      "                           mean\n",
      "energy                 0.609300\n",
      "danceability           0.716720\n",
      "key                    5.720000\n",
      "loudness              -6.225900\n",
      "acousticness           0.256206\n",
      "speechiness            0.124158\n",
      "instrumentalness       0.015962\n",
      "liveness               0.196552\n",
      "valence                0.555710\n",
      "tempo                119.690460\n",
      "duration_ms       199955.360000\n"
     ]
    }
   ],
   "source": [
    "print(f\"An average data of track in the dataset:\\n{df.describe().loc['mean'].to_frame()}\")"
   ]
  },
  {
   "cell_type": "markdown",
   "id": "98c98ff9-3e13-42f0-a9e8-804a36037221",
   "metadata": {},
   "source": [
    "the most popular genre according to the list is POP."
   ]
  },
  {
   "cell_type": "markdown",
   "id": "e008968e-9999-40ef-987b-7a7ed524e43d",
   "metadata": {},
   "source": [
    "The dataset with 50 rows and 16 features. No missing data, no duplicates. There are values lying outside of 3 sigmas, but look to be adequate. So, dataset is clean."
   ]
  },
  {
   "cell_type": "markdown",
   "id": "2f9fa5d1-46a4-4039-af88-e0e14b065c0e",
   "metadata": {},
   "source": [
    "32 tracks have a danceability score above 0.7"
   ]
  },
  {
   "cell_type": "markdown",
   "id": "f2df06cd-22c4-473d-86f8-cb350c68098d",
   "metadata": {},
   "source": [
    "19 tracks have their loudness above -5"
   ]
  },
  {
   "cell_type": "markdown",
   "id": "5b3a0e2b-aaf6-425d-9b5f-f2d7ac61d89a",
   "metadata": {},
   "source": [
    "2 genres are the leaders in the dataset: Pop with 14 songs, Hip-Hop/Rap with 13.\n",
    "The others: Dance/Electronic                       5\n",
    "Alternative/Indie                      4\n",
    "R&B/Soul                               2\n",
    " Electro-pop                           2"
   ]
  },
  {
   "cell_type": "markdown",
   "id": "402589bd-cc43-46d8-ad05-31e2dd6c3f97",
   "metadata": {},
   "source": [
    "16 genres in total are represented in the top 50"
   ]
  }
 ],
 "metadata": {
  "kernelspec": {
   "display_name": "Python 3 (ipykernel)",
   "language": "python",
   "name": "python3"
  },
  "language_info": {
   "codemirror_mode": {
    "name": "ipython",
    "version": 3
   },
   "file_extension": ".py",
   "mimetype": "text/x-python",
   "name": "python",
   "nbconvert_exporter": "python",
   "pygments_lexer": "ipython3",
   "version": "3.10.3"
  }
 },
 "nbformat": 4,
 "nbformat_minor": 5
}
